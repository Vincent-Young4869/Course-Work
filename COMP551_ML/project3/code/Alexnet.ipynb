{
 "cells": [
  {
   "cell_type": "code",
   "execution_count": 2,
   "metadata": {
    "colab": {
     "base_uri": "https://localhost:8080/",
     "height": 122
    },
    "colab_type": "code",
    "id": "nRjU26WOvb3G",
    "outputId": "f76899e6-fa09-4d4e-c83d-956c97ce2571"
   },
   "outputs": [
    {
     "name": "stdout",
     "output_type": "stream",
     "text": [
      "Go to this URL in a browser: https://accounts.google.com/o/oauth2/auth?client_id=947318989803-6bn6qk8qdgf4n4g3pfee6491hc0brc4i.apps.googleusercontent.com&redirect_uri=urn%3Aietf%3Awg%3Aoauth%3A2.0%3Aoob&scope=email%20https%3A%2F%2Fwww.googleapis.com%2Fauth%2Fdocs.test%20https%3A%2F%2Fwww.googleapis.com%2Fauth%2Fdrive%20https%3A%2F%2Fwww.googleapis.com%2Fauth%2Fdrive.photos.readonly%20https%3A%2F%2Fwww.googleapis.com%2Fauth%2Fpeopleapi.readonly&response_type=code\n",
      "\n",
      "Enter your authorization code:\n",
      "··········\n",
      "Mounted at /content/drive\n"
     ]
    }
   ],
   "source": [
    "from google.colab import drive\n",
    "drive.mount('/content/drive')"
   ]
  },
  {
   "cell_type": "code",
   "execution_count": 0,
   "metadata": {
    "colab": {},
    "colab_type": "code",
    "id": "wC4OmVYNvgcj"
   },
   "outputs": [],
   "source": [
    "import cv2\n",
    "import numpy as np\n",
    "import pandas as pd\n",
    "#import tensorflow as tf\n",
    "  \n",
    "import gzip\n",
    "import pickle\n",
    "import csv\n",
    "from scipy.spatial import distance as dist\n",
    "import imutils\n",
    "\n",
    "import matplotlib.pyplot as plt\n",
    "from sklearn.model_selection import train_test_split\n",
    "from sklearn.naive_bayes import MultinomialNB\n",
    "\n",
    "\n",
    "train_images = pd.read_pickle('/content/drive/My Drive/Colab/train_max_x')\n",
    "test_images = pd.read_pickle('/content/drive/My Drive/Colab/test_max_x')\n",
    "train_labels = pd.read_csv(\"/content/drive/My Drive/Colab/train_max_y.csv\")"
   ]
  },
  {
   "cell_type": "code",
   "execution_count": 4,
   "metadata": {
    "colab": {
     "base_uri": "https://localhost:8080/",
     "height": 80
    },
    "colab_type": "code",
    "id": "CJSt6y1EvgfU",
    "outputId": "e9ccc08e-5bb4-4676-e369-9b5444d8e401"
   },
   "outputs": [
    {
     "data": {
      "text/html": [
       "<p style=\"color: red;\">\n",
       "The default version of TensorFlow in Colab will soon switch to TensorFlow 2.x.<br>\n",
       "We recommend you <a href=\"https://www.tensorflow.org/guide/migrate\" target=\"_blank\">upgrade</a> now \n",
       "or ensure your notebook will continue to use TensorFlow 1.x via the <code>%tensorflow_version 1.x</code> magic:\n",
       "<a href=\"https://colab.research.google.com/notebooks/tensorflow_version.ipynb\" target=\"_blank\">more info</a>.</p>\n"
      ],
      "text/plain": [
       "<IPython.core.display.HTML object>"
      ]
     },
     "metadata": {
      "tags": []
     },
     "output_type": "display_data"
    },
    {
     "name": "stderr",
     "output_type": "stream",
     "text": [
      "Using TensorFlow backend.\n"
     ]
    }
   ],
   "source": [
    "import cv2\n",
    "import numpy as np\n",
    "import sys\n",
    "import pandas as pd\n",
    "import tensorflow as tf\n",
    "import matplotlib.pyplot as plt\n",
    "from keras.layers import Conv2D, MaxPooling2D, Activation, Flatten, Dense, Dropout, BatchNormalization\n",
    "from keras.optimizers import RMSprop, Adam\n",
    "from keras.utils import np_utils\n",
    "from pandas import DataFrame\n",
    "from scipy import ndimage\n",
    "from sklearn.model_selection import train_test_split\n",
    "from scipy.ndimage.measurements import label\n",
    "from tensorflow import keras\n",
    "from keras.models import Sequential\n",
    "from keras import datasets, layers, models\n",
    "\n",
    "# train_images = pd.read_pickle('train_max_x')\n",
    "# test_images = pd.read_pickle('test_max_x')\n",
    "# train_labels = pd.read_csv(\"train_max_y.csv\")\n",
    "# train_labels.drop(['Id'], inplace=True, axis=1)\n",
    "# train_labels = train_labels.pop('Label')\n",
    "\n",
    "retval, train_threshold = cv2.threshold(train_images, 250, maxval=255, type=cv2.THRESH_BINARY_INV)\n",
    "retval_test, test_threshold = cv2.threshold(test_images, 250, maxval=255, type=cv2.THRESH_BINARY_INV)\n",
    "\n",
    "x_train = train_threshold\n",
    "y_train = train_labels\n",
    "train_images = test_threshold\n",
    "\n",
    "x_train, x_test, y_train, y_test = train_test_split(train_threshold, train_labels, test_size=0.25, random_state=33)\n",
    "\n",
    "x_train = x_train.astype('float32')\n",
    "# x_test = x_test.astype('float32')\n",
    "\n",
    "numClass = 10\n",
    "datasize = 128\n",
    "\n",
    "x_train = np.divide(x_train, 255.0)\n",
    "x_train = x_train[:,:, :, np.newaxis]\n",
    "x_test = np.divide(x_test, 255.0)\n",
    "x_test = x_test[:, :, :, np.newaxis]\n",
    "y_train = np.array(y_train)\n",
    "y_test = np.array(y_test)\n",
    "\n",
    "x_train = keras.utils.to_categorical(x_train, numClass)\n",
    "x_test = keras.utils.to_categorical(x_test, numClass)\n",
    "y_train = keras.utils.to_categorical(y_train, numClass)\n",
    "y_test = keras.utils.to_categorical(y_test, numClass)\n",
    "\n",
    "model = Sequential()\n",
    "\n",
    "model.add(Conv2D(32, (3, 3), input_shape=(datasize,datasize,10)))\n",
    "model.add(BatchNormalization(axis=-1))\n",
    "model.add(Activation('relu'))\n",
    "model.add(Conv2D(32, (3, 3)))\n",
    "model.add(BatchNormalization(axis=-1))\n",
    "model.add(Activation('relu'))\n",
    "model.add(MaxPooling2D(pool_size=(2,2)))\n",
    "\n",
    "model.add(Conv2D(64,(3, 3)))\n",
    "model.add(BatchNormalization(axis=-1))\n",
    "model.add(Activation('relu'))\n",
    "model.add(Conv2D(64, (3, 3)))\n",
    "model.add(BatchNormalization(axis=-1))\n",
    "model.add(Activation('relu'))\n",
    "model.add(MaxPooling2D(pool_size=(2,2)))\n",
    "\n",
    "model.add(Flatten())\n",
    "\n",
    "model.add(Dense(512))\n",
    "model.add(BatchNormalization())\n",
    "model.add(Activation('relu'))\n",
    "model.add(Dropout(0.2))\n",
    "model.add(Dense(numClass))\n",
    "\n",
    "model.add(Activation('softmax'))\n",
    "model.compile(loss=\"categorical_crossentropy\", optimizer=Adam(), metrics=[\"accuracy\"])\n",
    "\n",
    "batch_size = 128\n",
    "epochs = 10\n",
    "model.fit(x_train, y_train,\n",
    "          batch_size=batch_size,\n",
    "          epochs=epochs,validation_data=(x_test, y_test))\n",
    "\n",
    "#predicted = model.predict(test_images, verbose=0)\n"
   ]
  }
 ],
 "metadata": {
  "accelerator": "GPU",
  "colab": {
   "collapsed_sections": [],
   "machine_shape": "hm",
   "name": "vgg-b64.ipynb",
   "provenance": []
  },
  "kernelspec": {
   "display_name": "Python 3",
   "language": "python",
   "name": "python3"
  },
  "language_info": {
   "codemirror_mode": {
    "name": "ipython",
    "version": 3
   },
   "file_extension": ".py",
   "mimetype": "text/x-python",
   "name": "python",
   "nbconvert_exporter": "python",
   "pygments_lexer": "ipython3",
   "version": "3.7.3"
  }
 },
 "nbformat": 4,
 "nbformat_minor": 1
}
